{
 "cells": [
  {
   "cell_type": "code",
   "execution_count": 17,
   "metadata": {},
   "outputs": [],
   "source": [
    "import numpy as np\n",
    "#lambda=arrival rate\n",
    "lam=100\n",
    "#k*mu=total service rate\n",
    "k=5\n",
    "mu=21\n",
    "TotalNum=5000"
   ]
  },
  {
   "cell_type": "code",
   "execution_count": 33,
   "metadata": {},
   "outputs": [],
   "source": [
    "############### FDM ##################\n",
    "def FDM(N):\n",
    "    Insys=np.array([])\n",
    "    # Insys=[np.array([])]*5\n",
    "    customer=0\n",
    "    finish=0\n",
    "    state=0\n",
    "    totalDelay=0\n",
    "    while finish<N:\n",
    "        if customer<N:\n",
    "            if state==0:\n",
    "                state+=1\n",
    "                customer+=1\n",
    "                Insys=np.append(Insys,0)\n",
    "            enter=np.random.exponential(k/lam)\n",
    "            out=np.random.exponential(1/mu)\n",
    "            if enter<out:\n",
    "                Insys+=enter\n",
    "                Insys=np.append(Insys,0)\n",
    "                state+=1\n",
    "                customer+=1\n",
    "            else:\n",
    "                Insys+=out\n",
    "                state-=1\n",
    "                finish+=1\n",
    "                totalDelay+=Insys[0]\n",
    "                Insys=np.delete(Insys,0)\n",
    "        else:\n",
    "            Insys+=np.random.exponential(1/mu)\n",
    "            totalDelay+=Insys[0]\n",
    "            finish+=1\n",
    "    return totalDelay/N"
   ]
  },
  {
   "cell_type": "code",
   "execution_count": 34,
   "metadata": {},
   "outputs": [
    {
     "name": "stdout",
     "output_type": "stream",
     "text": [
      "avg delay for FDM system 0.7421118323182099\n"
     ]
    }
   ],
   "source": [
    "total=[]\n",
    "for i in range(100):\n",
    "    avgDelay=[]\n",
    "    for j in range(k):\n",
    "        avgDelay.append(FDM(TotalNum/k))\n",
    "    total.append(np.mean(avgDelay))\n",
    "print('avg delay for FDM system',np.sum(total)/100)"
   ]
  },
  {
   "cell_type": "code",
   "execution_count": 27,
   "metadata": {},
   "outputs": [],
   "source": [
    "############### MM1 ##################\n",
    "def MM1():\n",
    "    Insys=np.array([])\n",
    "    customer=0\n",
    "    finish=0\n",
    "    state=0\n",
    "    totalDelay=0\n",
    "    while finish<TotalNum:\n",
    "        if customer<TotalNum:\n",
    "            if state==0:\n",
    "                state+=1\n",
    "                customer+=1\n",
    "                Insys=np.append(Insys,0)\n",
    "            enter=np.random.exponential(1/lam)\n",
    "            out=np.random.exponential(1/k/mu)\n",
    "            if enter<out:\n",
    "                Insys+=enter\n",
    "                Insys=np.append(Insys,0)\n",
    "                state+=1\n",
    "                customer+=1\n",
    "            else:\n",
    "                Insys+=out\n",
    "                state-=1\n",
    "                finish+=1\n",
    "                totalDelay+=Insys[0]\n",
    "                Insys=np.delete(Insys,0)\n",
    "        else:\n",
    "            Insys+=np.random.exponential(1/k/mu)\n",
    "            totalDelay+=Insys[0]\n",
    "            finish+=1\n",
    "    return totalDelay/TotalNum"
   ]
  },
  {
   "cell_type": "code",
   "execution_count": 28,
   "metadata": {},
   "outputs": [
    {
     "name": "stdout",
     "output_type": "stream",
     "text": [
      "avg delay for M/M/1 system 0.1731262766081877\n"
     ]
    }
   ],
   "source": [
    "total=[]\n",
    "for i in range(100):\n",
    "    total.append(MM1())\n",
    "print('avg delay for M/M/1 system',np.sum(total)/100)"
   ]
  },
  {
   "cell_type": "code",
   "execution_count": 20,
   "metadata": {},
   "outputs": [],
   "source": [
    "############### MMk ##################\n",
    "def MMk():\n",
    "    Insys=np.array([])\n",
    "    customer=0\n",
    "    finish=0\n",
    "    state=0\n",
    "    totalDelay=0\n",
    "    while finish<TotalNum:\n",
    "        if customer<TotalNum:\n",
    "            if state==0:\n",
    "                state+=1\n",
    "                customer+=1\n",
    "                Insys=np.append(Insys,0)\n",
    "            enter=np.random.exponential(1/lam)\n",
    "            if state>=k:\n",
    "                out=np.random.exponential(1/k/mu)\n",
    "            else:\n",
    "                out=np.random.exponential(1/state/mu)\n",
    "            if enter<out:\n",
    "                Insys+=enter\n",
    "                Insys=np.append(Insys,0)\n",
    "                state+=1\n",
    "                customer+=1\n",
    "            else:\n",
    "                Insys+=out\n",
    "                state-=1\n",
    "                finish+=1\n",
    "                totalDelay+=Insys[0]\n",
    "                Insys=np.delete(Insys,0)\n",
    "        else:\n",
    "            # for j in range(k):\n",
    "            Insys+=np.random.exponential(1/mu)\n",
    "            totalDelay+=Insys[0]\n",
    "            finish+=1\n",
    "    return totalDelay/TotalNum"
   ]
  },
  {
   "cell_type": "code",
   "execution_count": 21,
   "metadata": {},
   "outputs": [
    {
     "name": "stdout",
     "output_type": "stream",
     "text": [
      "avg delay for M/M/k system 0.21549382608174208\n"
     ]
    }
   ],
   "source": [
    "total=[]\n",
    "for i in range(100):\n",
    "    total.append(MMk())\n",
    "print('avg delay for M/M/k system',np.sum(total)/100)"
   ]
  },
  {
   "cell_type": "code",
   "execution_count": null,
   "metadata": {},
   "outputs": [],
   "source": []
  }
 ],
 "metadata": {
  "kernelspec": {
   "display_name": "Python 3",
   "language": "python",
   "name": "python3"
  },
  "language_info": {
   "codemirror_mode": {
    "name": "ipython",
    "version": 3
   },
   "file_extension": ".py",
   "mimetype": "text/x-python",
   "name": "python",
   "nbconvert_exporter": "python",
   "pygments_lexer": "ipython3",
   "version": "3.6.5"
  }
 },
 "nbformat": 4,
 "nbformat_minor": 2
}
